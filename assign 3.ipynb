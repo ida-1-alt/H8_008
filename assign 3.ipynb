{
 "cells": [
  {
   "cell_type": "code",
   "execution_count": 1,
   "id": "fdc69412",
   "metadata": {},
   "outputs": [],
   "source": [
    "import numpy as np"
   ]
  },
  {
   "cell_type": "code",
   "execution_count": 3,
   "id": "9ec429d9",
   "metadata": {},
   "outputs": [],
   "source": [
    "def hitung_jangkauan(data):\n",
    "    if data.size==0:\n",
    "        return None\n",
    "    nilai_tertinggi = np.max(data)\n",
    "    nilai_terendah = np.min(data)\n",
    "    jangkauan = nilai_tertinggi - nilai_terendah\n",
    "    return jangkauan"
   ]
  },
  {
   "cell_type": "code",
   "execution_count": null,
   "id": "d1dfe496",
   "metadata": {},
   "outputs": [],
   "source": [
    "while True:\n",
    "    input_data = input(\"masukkan data(pisahkan dengan koma): \")\n",
    "    try:\n",
    "        \n",
    "        data = [float(x) for x in input_data.replace(',','').split()]\n",
    "        data = np.array(data)\n",
    "        hasil_jangkauan = hitung_jangkauan(data)\n",
    "        print(\"jangkauan:\",hasil_jangkauan)\n",
    "    except ValueError:\n",
    "        print(\"input tidak valid.Masukkan angka valid.\")\n",
    "        \n",
    "    after = input(\"apakah ingin melanjutkan? (y/n):\")\n",
    "    if after.lower() != 'y':\n",
    "        break\n",
    "    "
   ]
  },
  {
   "cell_type": "code",
   "execution_count": null,
   "id": "92b7533c",
   "metadata": {},
   "outputs": [],
   "source": [
    "def hitung_quartil(data):\n",
    "    if data.size==0:\n",
    "        return None\n",
    "    \n",
    "    q1 = np.percentile(data, 25)\n",
    "    q2 = np.percentile(data, 50)\n",
    "    q3 = np.percentile(data, 75)\n",
    "    \n",
    "    nilai_quartil = 1/2*(q3 - q1)\n",
    "    return nilai_quartil\n",
    "\n",
    "\n"
   ]
  },
  {
   "cell_type": "code",
   "execution_count": 11,
   "id": "76a21221",
   "metadata": {},
   "outputs": [
    {
     "name": "stdout",
     "output_type": "stream",
     "text": [
      "masukkan data (pisahkan dengan koma):15,30\n",
      "quarti; 0.0\n",
      "apakah ingin melanjutkan?(y/n): n\n"
     ]
    }
   ],
   "source": [
    "while True:\n",
    "    input_data = input(\"masukkan data (pisahkan dengan koma):\")\n",
    "    try:\n",
    "        \n",
    "        data = [float(x) for x in input_data.replace(',','').split()]\n",
    "        data = np.array(data)\n",
    "        hasil_quartil = hitung_quartil(data)\n",
    "        print(\"quartil;\", hasil_quartil)\n",
    "    except ValueError:\n",
    "        print(\"input tidsk valid.masukkan angka yang valid.\")\n",
    "        \n",
    "    after = input(\"apakah ingin melanjutkan?(y/n): \")\n",
    "    if after.lower() != 'y':\n",
    "        break"
   ]
  },
  {
   "cell_type": "code",
   "execution_count": 12,
   "id": "075f2c33",
   "metadata": {},
   "outputs": [],
   "source": [
    "import numpy as np\n",
    "\n",
    "def hitung_StdDeviation(data):\n",
    "    if data.size == 0:\n",
    "        return None\n",
    "    \n",
    "    std_deviation = np.std(data)\n",
    "    return std_deviation\n"
   ]
  },
  {
   "cell_type": "code",
   "execution_count": null,
   "id": "ceb1399d",
   "metadata": {},
   "outputs": [],
   "source": [
    "while True:\n",
    "    input_data = input(\"masukkan data(pisahkan dengan koma): \")\n",
    "    try:\n",
    "        \n",
    "        data = [float(x) for x in input_data.replace(',','').split()]\n",
    "        data = np.array(data)\n",
    "        hasil_StdDeviation = hitung_StdDeviation(data)\n",
    "        print(\"standart deviation:\",std_deviation)\n",
    "    except ValueError:\n",
    "        print(\"input tidak valid.masukkan angka valid.\")\n",
    "        \n",
    "    after = input(\"apakah ingin melanjutkan? (y/n): \")\n",
    "    if after.lower() != 'y':\n",
    "        break"
   ]
  },
  {
   "cell_type": "code",
   "execution_count": null,
   "id": "c6023bc1",
   "metadata": {},
   "outputs": [],
   "source": [
    "import numpy as np\n",
    "\n",
    "def hitung_simpangan_rata(data):\n",
    "    if len == 0:\n",
    "        return None\n",
    "    \n",
    "    rata_rata = np.mean(data)\n",
    "    simpangan_rata_rata = np.mean(np.abs(data = rata_rata))\n",
    "    return simpangan_rata_rata"
   ]
  },
  {
   "cell_type": "code",
   "execution_count": null,
   "id": "b203dcb5",
   "metadata": {},
   "outputs": [],
   "source": [
    "while True:\n",
    "    input_data = input(\"masukkan data(pisahkan dengan koma): \")\n",
    "    try:\n",
    "        \n",
    "        data = [float(x) for x in input_data.replace(',','').split()]\n",
    "        hasil_simpangan = hitung_simpangan_rata_rata(data)\n",
    "        print(\"simpangan rata rata:\", hasil-simpangan)\n",
    "    except ValueError:\n",
    "        print(\"input tidak valid.masukkan angka valid.\")\n",
    "        \n",
    "    after = input(\"apakah ingin melanjutkan? (y/n): \")\n",
    "    if after.lower() != 'y':\n",
    "        break"
   ]
  },
  {
   "cell_type": "code",
   "execution_count": null,
   "id": "344df675",
   "metadata": {},
   "outputs": [],
   "source": [
    "import numpy as np\n",
    "def hitung_ragam(data):\n",
    "    if len(den) == 0:\n",
    "        return None #kembalikan none jika kosong\n",
    "    \n",
    "    rata_rata np.mean(data)\n",
    "    ragam = np.mean((data - rata_rata)**2)\n",
    "    \n",
    "    return ragam\n"
   ]
  },
  {
   "cell_type": "code",
   "execution_count": null,
   "id": "0c07d355",
   "metadata": {},
   "outputs": [],
   "source": [
    "while True:\n",
    "    input_data = input(\"masukkan data(pisahkan dengan koma): \")\n",
    "    try:\n",
    "        #memisahkan input string menjadi list angka\n",
    "        data = [float(x)for x in input_data.replace(',','').split()]\n",
    "        hasil_ragam = hitung_ragam(data)\n",
    "        print (\"ragam:\", hasil_ragam)\n",
    "    except ValueError:\n",
    "        print(\"input tidak valid.masukkan angka valid.\")\n",
    "        \n",
    "    after = input (\"apakah ingin melanjutkan?(y\\n): \")\n",
    "    if after.lower() != 'y':\n",
    "        break"
   ]
  },
  {
   "cell_type": "code",
   "execution_count": null,
   "id": "f73ab65b",
   "metadata": {},
   "outputs": [],
   "source": []
  }
 ],
 "metadata": {
  "kernelspec": {
   "display_name": "Python 3 (ipykernel)",
   "language": "python",
   "name": "python3"
  },
  "language_info": {
   "codemirror_mode": {
    "name": "ipython",
    "version": 3
   },
   "file_extension": ".py",
   "mimetype": "text/x-python",
   "name": "python",
   "nbconvert_exporter": "python",
   "pygments_lexer": "ipython3",
   "version": "3.11.4"
  }
 },
 "nbformat": 4,
 "nbformat_minor": 5
}
