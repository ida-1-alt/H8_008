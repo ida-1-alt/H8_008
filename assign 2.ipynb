{
  "nbformat": 4,
  "nbformat_minor": 0,
  "metadata": {
    "colab": {
      "provenance": [],
      "collapsed_sections": [
        "djXck6z_UltK",
        "V3Qp2tWfUtHn",
        "oXF7pL-vVnv6",
        "YudL3JiPVy5f",
        "NkP6B1whV52T",
        "S6rKEIIxWg5w",
        "GJe26rBGWt2G",
        "mJxUupyTW5rJ"
      ]
    },
    "kernelspec": {
      "name": "python3",
      "display_name": "Python 3"
    },
    "language_info": {
      "name": "python"
    }
  },
  "cells": [
    {
      "cell_type": "markdown",
      "source": [
        "#**Preprocessing**"
      ],
      "metadata": {
        "id": "djXck6z_UltK"
      }
    },
    {
      "cell_type": "code",
      "execution_count": null,
      "metadata": {
        "id": "wdAGVTqGTqAt"
      },
      "outputs": [],
      "source": [
        "import pandas as pd\n",
        "data = pd.read_csv('nyc-rolling-sales.csv')\n",
        "data[\"SALE PRICE\"] = pd.to_numeric(data[\"SALE PRICE\"], errors='coerce')\n",
        "data_cleaned = data.dropna(subset=[\"SALE PRICE\"])"
      ]
    },
    {
      "cell_type": "markdown",
      "source": [
        "# **Mean**"
      ],
      "metadata": {
        "id": "V3Qp2tWfUtHn"
      }
    },
    {
      "cell_type": "code",
      "source": [
        "rata_rata = data_cleaned[\"SALE PRICE\"].mean()\n",
        "rata_rata"
      ],
      "metadata": {
        "colab": {
          "base_uri": "https://localhost:8080/"
        },
        "id": "vtMrbNa8UwCU",
        "outputId": "25b30408-00a5-42e6-a189-1a39f6c58cab"
      },
      "execution_count": 5,
      "outputs": [
        {
          "output_type": "execute_result",
          "data": {
            "text/plain": [
              "1276456.4977638705"
            ]
          },
          "metadata": {},
          "execution_count": 5
        }
      ]
    },
    {
      "cell_type": "markdown",
      "source": [
        "*Menghitung rata-rata (mean) dari kolom \"SALE PRICE\"*"
      ],
      "metadata": {
        "id": "J8UFMtbtVg5a"
      }
    },
    {
      "cell_type": "markdown",
      "source": [
        "# **Median**"
      ],
      "metadata": {
        "id": "oXF7pL-vVnv6"
      }
    },
    {
      "cell_type": "code",
      "source": [
        "median = data_cleaned[\"SALE PRICE\"].median()\n",
        "median"
      ],
      "metadata": {
        "colab": {
          "base_uri": "https://localhost:8080/"
        },
        "id": "w_tPVF7wVqK5",
        "outputId": "d209f0eb-4ed4-4a9d-9043-82f60fe61a99"
      },
      "execution_count": 6,
      "outputs": [
        {
          "output_type": "execute_result",
          "data": {
            "text/plain": [
              "530000.0"
            ]
          },
          "metadata": {},
          "execution_count": 6
        }
      ]
    },
    {
      "cell_type": "markdown",
      "source": [
        "*Menghitung median dari kolom \"SALE PRICE\"*"
      ],
      "metadata": {
        "id": "69tHv-4iVtts"
      }
    },
    {
      "cell_type": "markdown",
      "source": [
        "# **Modus**"
      ],
      "metadata": {
        "id": "YudL3JiPVy5f"
      }
    },
    {
      "cell_type": "code",
      "source": [
        "modus = data_cleaned[\"SALE PRICE\"].mode().iloc[0]\n",
        "modus"
      ],
      "metadata": {
        "colab": {
          "base_uri": "https://localhost:8080/"
        },
        "id": "tv6_bXfdV02w",
        "outputId": "a10a7c41-e20b-4490-d450-4c3236d55cd0"
      },
      "execution_count": 9,
      "outputs": [
        {
          "output_type": "execute_result",
          "data": {
            "text/plain": [
              "0.0"
            ]
          },
          "metadata": {},
          "execution_count": 9
        }
      ]
    },
    {
      "cell_type": "markdown",
      "source": [
        "*Menghitung modus dari kolom \"SALE PRICE\"*"
      ],
      "metadata": {
        "id": "wIoIGse_V3Xq"
      }
    },
    {
      "cell_type": "markdown",
      "source": [
        "# **Range**"
      ],
      "metadata": {
        "id": "NkP6B1whV52T"
      }
    },
    {
      "cell_type": "code",
      "source": [
        "rentang = data_cleaned[\"SALE PRICE\"].max() - data_cleaned[\"SALE PRICE\"].min()\n",
        "rentang"
      ],
      "metadata": {
        "colab": {
          "base_uri": "https://localhost:8080/"
        },
        "id": "VV4EWnnWV7bj",
        "outputId": "a1a11a9b-281c-4c91-f8c3-ef8488601946"
      },
      "execution_count": 10,
      "outputs": [
        {
          "output_type": "execute_result",
          "data": {
            "text/plain": [
              "2210000000.0"
            ]
          },
          "metadata": {},
          "execution_count": 10
        }
      ]
    },
    {
      "cell_type": "markdown",
      "source": [
        "*Menghitung rentang (range) dari kolom \"SALE PRICE\"*"
      ],
      "metadata": {
        "id": "PYJP7F4-WdZi"
      }
    },
    {
      "cell_type": "markdown",
      "source": [
        "# **Variance**"
      ],
      "metadata": {
        "id": "S6rKEIIxWg5w"
      }
    },
    {
      "cell_type": "code",
      "source": [
        "variance = data_cleaned[\"SALE PRICE\"].var()\n",
        "variance"
      ],
      "metadata": {
        "colab": {
          "base_uri": "https://localhost:8080/"
        },
        "id": "X4y3zAEmWjvg",
        "outputId": "f7d59470-6a71-4133-842a-f9bc95e0d843"
      },
      "execution_count": 12,
      "outputs": [
        {
          "output_type": "execute_result",
          "data": {
            "text/plain": [
              "130079849507172.7"
            ]
          },
          "metadata": {},
          "execution_count": 12
        }
      ]
    },
    {
      "cell_type": "markdown",
      "source": [
        "*Menghitung varians dari kolom \"SALE PRICE\"*"
      ],
      "metadata": {
        "id": "17zhmtmiWstM"
      }
    },
    {
      "cell_type": "markdown",
      "source": [
        "# **SD**"
      ],
      "metadata": {
        "id": "GJe26rBGWt2G"
      }
    },
    {
      "cell_type": "code",
      "source": [
        "std_dev = data_cleaned[\"SALE PRICE\"].std()\n",
        "std_dev"
      ],
      "metadata": {
        "colab": {
          "base_uri": "https://localhost:8080/"
        },
        "id": "A9PKhQy5WwG5",
        "outputId": "29398b7f-52b4-4f67-f401-cfad1c436667"
      },
      "execution_count": 13,
      "outputs": [
        {
          "output_type": "execute_result",
          "data": {
            "text/plain": [
              "11405255.345987337"
            ]
          },
          "metadata": {},
          "execution_count": 13
        }
      ]
    },
    {
      "cell_type": "markdown",
      "source": [
        "*Menghitung standar deviasi (SD) dari kolom \"SALE PRICE\"*"
      ],
      "metadata": {
        "id": "UsfCze6YW1Ra"
      }
    },
    {
      "cell_type": "markdown",
      "source": [
        "# **Analisa Distribusi Data**"
      ],
      "metadata": {
        "id": "mJxUupyTW5rJ"
      }
    },
    {
      "cell_type": "code",
      "source": [
        "import matplotlib.pyplot as plt\n",
        "plt.hist(data_cleaned[\"SALE PRICE\"], bins=50, edgecolor='black')\n",
        "plt.title('Distribusi dari SALE PRICE')\n",
        "plt.xlabel('SALE PRICE')\n",
        "plt.ylabel('Frekuensi')\n",
        "plt.yscale('log')\n",
        "plt.show()"
      ],
      "metadata": {
        "colab": {
          "base_uri": "https://localhost:8080/",
          "height": 472
        },
        "id": "KOzcoeLuW7oa",
        "outputId": "07c4ec5a-cc40-4595-8b60-c21e52c6b7ab"
      },
      "execution_count": 16,
      "outputs": [
        {
          "output_type": "display_data",
          "data": {
            "text/plain": [
              "<Figure size 640x480 with 1 Axes>"
            ],
            "image/png": "[encoded data removed]"
          },
          "metadata": {}
        }
      ]
    },
    {
      "cell_type": "markdown",
      "source": [
        "*Kesimpulannya, pasar properti di NYC memiliki sejumlah besar properti dengan harga jual yang relatif terjangkau (dibandingkan dengan harga jual tertinggi dalam dataset), tetapi ada beberapa properti dengan harga jual yang sangat tinggi yang membuat distribusi menjadi condong ke kanan.*"
      ],
      "metadata": {
        "id": "2I71eupQXPM8"
      }
    },
    {
      "cell_type": "markdown",
      "source": [
        "# **Confidence Intervals**"
      ],
      "metadata": {
        "id": "oCP_4HnVXVbL"
      }
    },
    {
      "cell_type": "code",
      "source": [
        "from scipy import stats\n",
        "confidence_level = 0.95\n",
        "degrees_freedom = data_cleaned[\"SALE PRICE\"].count() - 1\n",
        "CI = stats.t.interval(confidence_level, degrees_freedom, rata_rata, std_dev / (data_cleaned[\"SALE PRICE\"].count()**0.5))\n",
        "CI"
      ],
      "metadata": {
        "colab": {
          "base_uri": "https://localhost:8080/"
        },
        "id": "ev35NHhrXafp",
        "outputId": "3edea4a8-cf1f-4669-9ef4-1bc2a4888feb"
      },
      "execution_count": 21,
      "outputs": [
        {
          "output_type": "execute_result",
          "data": {
            "text/plain": [
              "(1191957.4283848696, 1360955.5671428714)"
            ]
          },
          "metadata": {},
          "execution_count": 21
        }
      ]
    },
    {
      "cell_type": "markdown",
      "source": [
        "*Kode di atas menentukan tingkat kepercayaan yang ingin kita gunakan, yaitu 95%. Ini berarti kita ingin memiliki kepercayaan 95% bahwa rata-rata sebenarnya berada dalam interval yang kita hitung. Derajat kebebasan (degrees of freedom) dihitung dengan mengambil jumlah observasi (dalam hal ini jumlah harga jual) dikurangi satu. Ini digunakan ketika kita menghitung interval kepercayaan dengan distribusi t. Kode di atas menghitung interval kepercayaan untuk rata-rata harga jual dengan tingkat kepercayaan 95%. Fungsi stats.t.interval dari pustaka scipy.stats digunakan untuk menghitung interval kepercayaan dengan distribusi t.*"
      ],
      "metadata": {
        "id": "fL9QF3oFX4LD"
      }
    },
    {
      "cell_type": "markdown",
      "source": [],
      "metadata": {
        "id": "29Uvy0MrX8Tx"
      }
    },
    {
      "cell_type": "markdown",
      "source": [
        "# **Hipotesis**"
      ],
      "metadata": {
        "id": "F16_wtkmX-7c"
      }
    },
    {
      "cell_type": "code",
      "source": [
        "pop_mean = 1300000\n",
        "t_stat, p_val = stats.ttest_1samp(data_cleaned[\"SALE PRICE\"], pop_mean)\n",
        "p_val_one_sided = p_val / 2\n",
        "if p_val_one_sided < 0.05:\n",
        "    kesimpulan = \"Rata-rata harga jual properti di NYC lebih besar dari $1,300,000.\"\n",
        "else:\n",
        "    kesimpulan = \"Tidak ada bukti cukup untuk mengatakan rata-rata harga jual properti di NYC lebih besar dari $1,300,000.\"\n",
        "kesimpulan"
      ],
      "metadata": {
        "colab": {
          "base_uri": "https://localhost:8080/",
          "height": 35
        },
        "id": "eUN_v0iiYBgS",
        "outputId": "2dce44b3-21e1-4ab2-f8c7-856b0030ae0b"
      },
      "execution_count": 23,
      "outputs": [
        {
          "output_type": "execute_result",
          "data": {
            "text/plain": [
              "'Tidak ada bukti cukup untuk mengatakan rata-rata harga jual properti di NYC lebih besar dari $1,300,000.'"
            ],
            "application/vnd.google.colaboratory.intrinsic+json": {
              "type": "string"
            }
          },
          "metadata": {},
          "execution_count": 23
        }
      ]
    },
    {
      "cell_type": "markdown",
      "source": [
        "*Uji hipotesis: Apakah rata-rata harga jual properti di NYC lebih besar dari $1,300,000?*"
      ],
      "metadata": {
        "id": "VeoeausrYF_h"
      }
    }
  ]
}